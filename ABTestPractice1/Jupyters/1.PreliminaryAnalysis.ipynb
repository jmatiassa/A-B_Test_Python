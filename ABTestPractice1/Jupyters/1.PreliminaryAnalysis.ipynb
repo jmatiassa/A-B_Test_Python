{
 "cells": [
  {
   "cell_type": "markdown",
   "metadata": {},
   "source": [
    "Preliminary analysis in order to check the relevant information of te a/b testing file such as:\n",
    "\n",
    "1. Duplicates\n",
    "2. Nulls\n",
    "3. Number of groups\n",
    "4. Relation of the samples\n",
    "5. Variable types\n",
    "6. Normality test\n",
    "\n",
    "Having this information there will be selected the corresponding A/B test that maximizes the tatistic relevance\n"
   ]
  },
  {
   "cell_type": "markdown",
   "metadata": {},
   "source": [
    "## Imports\n"
   ]
  },
  {
   "cell_type": "code",
   "execution_count": 1,
   "metadata": {},
   "outputs": [],
   "source": [
    "# Libraries\n",
    "import pandas as pd\n"
   ]
  },
  {
   "cell_type": "code",
   "execution_count": 2,
   "metadata": {},
   "outputs": [],
   "source": [
    "#dataframe\n",
    "df_preliminary_raw = pd.read_csv(r\"C:\\Users\\matis\\Desktop\\DataAnalyticsPractice\\ABTestPractice\\ABTestPractice1\\data\\marketing_AB.csv\",usecols=lambda col:not col.startswith('Unnamed'))\n"
   ]
  },
  {
   "cell_type": "code",
   "execution_count": 3,
   "metadata": {},
   "outputs": [
    {
     "data": {
      "text/html": [
       "<div>\n",
       "<style scoped>\n",
       "    .dataframe tbody tr th:only-of-type {\n",
       "        vertical-align: middle;\n",
       "    }\n",
       "\n",
       "    .dataframe tbody tr th {\n",
       "        vertical-align: top;\n",
       "    }\n",
       "\n",
       "    .dataframe thead th {\n",
       "        text-align: right;\n",
       "    }\n",
       "</style>\n",
       "<table border=\"1\" class=\"dataframe\">\n",
       "  <thead>\n",
       "    <tr style=\"text-align: right;\">\n",
       "      <th></th>\n",
       "      <th>user id</th>\n",
       "      <th>test group</th>\n",
       "      <th>converted</th>\n",
       "      <th>total ads</th>\n",
       "      <th>most ads day</th>\n",
       "      <th>most ads hour</th>\n",
       "    </tr>\n",
       "  </thead>\n",
       "  <tbody>\n",
       "    <tr>\n",
       "      <th>163926</th>\n",
       "      <td>1612323</td>\n",
       "      <td>ad</td>\n",
       "      <td>False</td>\n",
       "      <td>5</td>\n",
       "      <td>Saturday</td>\n",
       "      <td>12</td>\n",
       "    </tr>\n",
       "    <tr>\n",
       "      <th>27130</th>\n",
       "      <td>1606539</td>\n",
       "      <td>ad</td>\n",
       "      <td>False</td>\n",
       "      <td>8</td>\n",
       "      <td>Wednesday</td>\n",
       "      <td>22</td>\n",
       "    </tr>\n",
       "    <tr>\n",
       "      <th>410579</th>\n",
       "      <td>1322140</td>\n",
       "      <td>ad</td>\n",
       "      <td>False</td>\n",
       "      <td>8</td>\n",
       "      <td>Wednesday</td>\n",
       "      <td>14</td>\n",
       "    </tr>\n",
       "    <tr>\n",
       "      <th>267459</th>\n",
       "      <td>1061715</td>\n",
       "      <td>ad</td>\n",
       "      <td>False</td>\n",
       "      <td>49</td>\n",
       "      <td>Tuesday</td>\n",
       "      <td>18</td>\n",
       "    </tr>\n",
       "    <tr>\n",
       "      <th>17632</th>\n",
       "      <td>1557293</td>\n",
       "      <td>ad</td>\n",
       "      <td>False</td>\n",
       "      <td>54</td>\n",
       "      <td>Wednesday</td>\n",
       "      <td>9</td>\n",
       "    </tr>\n",
       "  </tbody>\n",
       "</table>\n",
       "</div>"
      ],
      "text/plain": [
       "        user id test group  converted  total ads most ads day  most ads hour\n",
       "163926  1612323         ad      False          5     Saturday             12\n",
       "27130   1606539         ad      False          8    Wednesday             22\n",
       "410579  1322140         ad      False          8    Wednesday             14\n",
       "267459  1061715         ad      False         49      Tuesday             18\n",
       "17632   1557293         ad      False         54    Wednesday              9"
      ]
     },
     "execution_count": 3,
     "metadata": {},
     "output_type": "execute_result"
    }
   ],
   "source": [
    "df_preliminary_raw.sample(5)"
   ]
  },
  {
   "cell_type": "markdown",
   "metadata": {},
   "source": [
    "## Check for duplicates"
   ]
  },
  {
   "cell_type": "code",
   "execution_count": 4,
   "metadata": {},
   "outputs": [
    {
     "data": {
      "text/plain": [
       "np.int64(0)"
      ]
     },
     "execution_count": 4,
     "metadata": {},
     "output_type": "execute_result"
    }
   ],
   "source": [
    "#The total number of duplicate rows is counted\n",
    "df_preliminary_raw.duplicated().sum()"
   ]
  },
  {
   "cell_type": "markdown",
   "metadata": {},
   "source": [
    "## Nulls"
   ]
  },
  {
   "cell_type": "code",
   "execution_count": 5,
   "metadata": {},
   "outputs": [
    {
     "data": {
      "text/plain": [
       "user id          0\n",
       "test group       0\n",
       "converted        0\n",
       "total ads        0\n",
       "most ads day     0\n",
       "most ads hour    0\n",
       "dtype: int64"
      ]
     },
     "execution_count": 5,
     "metadata": {},
     "output_type": "execute_result"
    }
   ],
   "source": [
    "df_preliminary_raw.isna().sum()"
   ]
  },
  {
   "cell_type": "markdown",
   "metadata": {},
   "source": []
  },
  {
   "cell_type": "markdown",
   "metadata": {},
   "source": [
    "## Number of groups\n",
    "We assume that the independent variable is located in the test group column and it is necessary to verify the different values it is taking"
   ]
  },
  {
   "cell_type": "code",
   "execution_count": 6,
   "metadata": {},
   "outputs": [
    {
     "data": {
      "text/plain": [
       "test group\n",
       "ad     564577\n",
       "psa     23524\n",
       "Name: count, dtype: int64"
      ]
     },
     "execution_count": 6,
     "metadata": {},
     "output_type": "execute_result"
    }
   ],
   "source": [
    "df_preliminary_raw[\"test group\"].value_counts()"
   ]
  },
  {
   "cell_type": "markdown",
   "metadata": {},
   "source": [
    "Two different values as showed in the instructions: If \"ad\" the person saw the advertisement, if \"psa\" they only saw the public service announcement"
   ]
  },
  {
   "cell_type": "markdown",
   "metadata": {},
   "source": [
    "## Relation of the samples\n",
    "A crucial aspect is to know if the samples have any relationship. To prove that we compare the different user id values to chech if there hare apparitions in both samples."
   ]
  },
  {
   "cell_type": "code",
   "execution_count": 7,
   "metadata": {},
   "outputs": [
    {
     "data": {
      "text/plain": [
       "user id\n",
       "1137664    1\n",
       "1237779    1\n",
       "1069124    1\n",
       "1119715    1\n",
       "1144181    1\n",
       "          ..\n",
       "1146893    1\n",
       "904721     1\n",
       "1223573    1\n",
       "1380378    1\n",
       "1561741    1\n",
       "Name: count, Length: 588101, dtype: int64"
      ]
     },
     "execution_count": 7,
     "metadata": {},
     "output_type": "execute_result"
    }
   ],
   "source": [
    "df_preliminary_raw[\"user id\"].value_counts().sort_values(ascending=False)"
   ]
  },
  {
   "cell_type": "markdown",
   "metadata": {},
   "source": [
    "We prove that there is only one apparition for each id"
   ]
  },
  {
   "cell_type": "markdown",
   "metadata": {},
   "source": [
    "## Variable Types\n",
    "variables:\n",
    "\n",
    "test group: treatment variable that helps to identify whether there is a significant difference between the groups under controlled conditions.\n",
    "\n",
    "converted: target variable of the ab test\n",
    "\n",
    "total ads: exposure variables or contextual factors that describe the intensity and distribution of the intervention.\t\n",
    "\n",
    "most ads day: exposure variables or contextual factors that describe the intensity and distribution of the intervention.\n",
    "\n",
    "most ads hour:exposure variables or contextual factors that describe the intensity and distribution of the intervention."
   ]
  },
  {
   "cell_type": "code",
   "execution_count": 8,
   "metadata": {},
   "outputs": [
    {
     "name": "stdout",
     "output_type": "stream",
     "text": [
      "<class 'pandas.core.frame.DataFrame'>\n",
      "RangeIndex: 588101 entries, 0 to 588100\n",
      "Data columns (total 6 columns):\n",
      " #   Column         Non-Null Count   Dtype \n",
      "---  ------         --------------   ----- \n",
      " 0   user id        588101 non-null  int64 \n",
      " 1   test group     588101 non-null  object\n",
      " 2   converted      588101 non-null  bool  \n",
      " 3   total ads      588101 non-null  int64 \n",
      " 4   most ads day   588101 non-null  object\n",
      " 5   most ads hour  588101 non-null  int64 \n",
      "dtypes: bool(1), int64(3), object(2)\n",
      "memory usage: 23.0+ MB\n"
     ]
    }
   ],
   "source": [
    "df_preliminary_raw.info()"
   ]
  },
  {
   "cell_type": "markdown",
   "metadata": {},
   "source": [
    "From this pre-analysis it can be concluded that the following methodology will be applied:\n",
    "1. A/B testing analysis between the test group and converted variables to identify if there are significant differences between applying an advertisement or not.\n",
    "2. Context analysis: if there is a significant difference in the A/B testing, the exposure variables will be analysed to measure the factors that most influence the conversion of users by analysing total ads, mosta ads day and most ads hour."
   ]
  },
  {
   "cell_type": "markdown",
   "metadata": {},
   "source": [
    "## Contextual metrics and sample sizes"
   ]
  },
  {
   "cell_type": "code",
   "execution_count": 9,
   "metadata": {},
   "outputs": [
    {
     "name": "stdout",
     "output_type": "stream",
     "text": [
      "  test group  total_users  total_ads  converted  total_conversions  \\\n",
      "0         ad       564577   14014701      14423              14423   \n",
      "1        psa        23524     582481        420                420   \n",
      "\n",
      "   conversion_ratio  \n",
      "0          0.025547  \n",
      "1          0.017854  \n"
     ]
    }
   ],
   "source": [
    "# group by test group and calculate statistics\n",
    "table = df_preliminary_raw.groupby('test group').agg(\n",
    "    total_users=(\"user id\",\"nunique\"),\n",
    "    total_ads=('total ads', 'sum'),          # Total adverts seen\n",
    "    converted=('converted', 'sum')           # Total conversions (True = 1)\n",
    ").reset_index()\n",
    "\n",
    "# total conversions and conversion ratio\n",
    "table['total_conversions'] = table['converted']  # Total conversions \n",
    "table['conversion_ratio'] = table['converted'] / table['total_users']  # conversion ratio\n",
    "\n",
    "# Ver la tabla resultante\n",
    "print(table)\n",
    "\n"
   ]
  },
  {
   "cell_type": "markdown",
   "metadata": {},
   "source": [
    "## Normality test for target variable\n",
    "There is no normality test needed due to the boolean type of this variable where 1 is converted and 0 is non converted"
   ]
  },
  {
   "cell_type": "markdown",
   "metadata": {},
   "source": [
    "## Conclussion: Which A/B test model shall be implemented?\n",
    "\n",
    "1. 2 Groups: ad and psa\n",
    "2. Independent samples: there aren't multiple values for each user_id\n",
    "3. Boolean target variable\n",
    "4. Samples are of sufficient size for testing\n",
    "\n",
    "\n",
    "The appropriate statistical test for this A/B test is the **Chi-square test of independence**. This test will help determine if there is a statistically significant difference in conversion rates between the \"ad\" and \"psa\" groups."
   ]
  }
 ],
 "metadata": {
  "kernelspec": {
   "display_name": "Python 3",
   "language": "python",
   "name": "python3"
  },
  "language_info": {
   "codemirror_mode": {
    "name": "ipython",
    "version": 3
   },
   "file_extension": ".py",
   "mimetype": "text/x-python",
   "name": "python",
   "nbconvert_exporter": "python",
   "pygments_lexer": "ipython3",
   "version": "3.13.0"
  }
 },
 "nbformat": 4,
 "nbformat_minor": 2
}
