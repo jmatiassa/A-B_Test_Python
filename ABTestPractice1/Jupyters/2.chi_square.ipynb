{
 "cells": [
  {
   "cell_type": "markdown",
   "metadata": {},
   "source": [
    "Chi square model to implement an a/b test on variables test group and converted\n",
    "\n",
    "Null hypotesis H0: there is no difference in the conversion rate between the two groups (ad vs. psa), meaning that any observed difference is due to random chance.\n",
    "\n",
    "Alternative Hypotesis: There is a significant difference between the two groups (ad vs. psa), meaning that any observed difference is not due to random chance."
   ]
  },
  {
   "cell_type": "markdown",
   "metadata": {},
   "source": [
    "## Imports"
   ]
  },
  {
   "cell_type": "code",
   "execution_count": 1,
   "metadata": {},
   "outputs": [],
   "source": [
    "#Libraries\n",
    "import pandas as pd\n",
    "\n",
    "#Import support files src where is the chi squared function\n",
    "import sys\n",
    "sys.path.append(\"..\")\n",
    "from src import chi_square"
   ]
  },
  {
   "cell_type": "code",
   "execution_count": 2,
   "metadata": {},
   "outputs": [],
   "source": [
    "# Dataframe\n",
    "df_chi_raw=pd.read_csv(r\"C:\\Users\\matis\\Desktop\\DataAnalyticsPractice\\ABTestPractice\\ABTestPractice1\\data\\marketing_AB.csv\",usecols = lambda col:not col.startswith('Unnamed') )"
   ]
  },
  {
   "cell_type": "code",
   "execution_count": 3,
   "metadata": {},
   "outputs": [
    {
     "name": "stdout",
     "output_type": "stream",
     "text": [
      "Contingency Table: converted    False  True \n",
      "test group               \n",
      "ad          550154  14423\n",
      "psa          23104    420\n",
      "\n",
      "Chi2 Stat: 54.005823883685245\n",
      "\n",
      "P-value: 1.9989623063390075e-13\n",
      "\n",
      "Degrees of Freedom: 1\n",
      "\n",
      "Expected Frequencies: [[550327.71899045  14249.28100955]\n",
      " [ 22930.28100955    593.71899045]]\n",
      "\n",
      "Statistical Significance (0.05): Significant with 0.05 significance\n",
      "\n",
      "Statistical Significance (0.01): Significant with 0.01 significance\n",
      "\n",
      "None\n"
     ]
    }
   ],
   "source": [
    "# Llamar a la función 'chi_squared_test' desde 'chi_square.py'\n",
    "results = chi_square.chi_squared_test(df_chi_raw, 'test group', 'converted')\n",
    "print(results)\n"
   ]
  },
  {
   "cell_type": "markdown",
   "metadata": {},
   "source": [
    "## Conclussion of the test\n",
    "\n",
    " We can conclude that the test shows statistical significance with the two groups and the differences in the conversion rate are not due to random chance.\n",
    "\n",
    " There is strong evidence in the results due to a p-value inferior to 0.01 which implies that the probability of rejecting H0 if it were true is lower than 1%\n",
    "\n",
    "In terms of business, we can accept that there is a possitive impact in the conversion rate and this is objectively explained due to the advertisement implemented. There is a increase of almost a 30% on conversion rate in front of the public service announcement psa\n",
    "\n",
    "Based on this arguments, the exercise can be concluded as both main questions have been answered:\n",
    "\n",
    "1. Would the campaign be successful? Yes, the campaign was successful because the Chi-square test showed a statistically significant difference in conversion rates between the ad and PSA groups, with the ad group having a higher conversion rate. The p-value (significantly lower than 0.05 and 0.01) suggests that the difference in conversion rates is unlikely to be due to random chance.\n",
    "2. If the campaign was successful, how much of that success could be attributed to the ads?The success of the campaign can largely be attributed to the ads. The increase in conversion rates (around 30%) for the ad group compared to the PSA group provides a clear indication that the ads have had a positive impact on conversions. Additionally, by analyzing the relationship between total ads, most ads day, and most ads hour, you can further explore how ad exposure might influence the conversion success.\n",
    "\n",
    "Nevertheless, knowing that there is a possitive effect with the advertising campaign, there has to be conducted an analysis in order to interprete the reasons that make the users increase their conversions after watching the adverts. The information that we have to do that is:\n",
    "\n",
    "total ads: the total number of adds watched by the user\n",
    "\n",
    "most ads day:Day that the person saw the biggest amount of ads\n",
    "\n",
    "\n",
    "most ads hour:Hour of day that the person saw the biggest amount of ads\n",
    "\n",
    "converted: dependent boolean variable\n",
    "\n",
    "The study can be made implementing a logistic regression model that explain the effect of each independent variable on the conversion rate filtering only the advertisement group.\n"
   ]
  },
  {
   "cell_type": "markdown",
   "metadata": {},
   "source": []
  }
 ],
 "metadata": {
  "kernelspec": {
   "display_name": "ABTEstPracticeVenv",
   "language": "python",
   "name": "python3"
  },
  "language_info": {
   "codemirror_mode": {
    "name": "ipython",
    "version": 3
   },
   "file_extension": ".py",
   "mimetype": "text/x-python",
   "name": "python",
   "nbconvert_exporter": "python",
   "pygments_lexer": "ipython3",
   "version": "3.13.0"
  }
 },
 "nbformat": 4,
 "nbformat_minor": 2
}
